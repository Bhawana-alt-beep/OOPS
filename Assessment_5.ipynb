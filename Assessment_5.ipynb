{
  "nbformat": 4,
  "nbformat_minor": 0,
  "metadata": {
    "colab": {
      "provenance": []
    },
    "kernelspec": {
      "name": "python3",
      "display_name": "Python 3"
    },
    "language_info": {
      "name": "python"
    }
  },
  "cells": [
    {
      "cell_type": "markdown",
      "source": [
        "# 1   How can you open a file for writing in Python and write a string to it ?"
      ],
      "metadata": {
        "id": "zqw_iMTNXViw"
      }
    },
    {
      "cell_type": "code",
      "source": [
        "f= open(\"file_name.txt\",\"w\")\n",
        "f.write(\"This a string code\\n\")\n",
        "f.write(\"This a second string code\\n\")\n",
        "f.close()\n"
      ],
      "metadata": {
        "id": "y1dxMS-3XZB4"
      },
      "execution_count": null,
      "outputs": []
    },
    {
      "cell_type": "markdown",
      "source": [
        "#2 Write a Python program to read the contents of a file and print each line ?\n"
      ],
      "metadata": {
        "id": "xyl_EfSMYUlB"
      }
    },
    {
      "cell_type": "code",
      "source": [
        "f=open(\"file_name.txt\",\"r\")\n",
        "print(f.read())\n"
      ],
      "metadata": {
        "colab": {
          "base_uri": "https://localhost:8080/"
        },
        "id": "0Mj69XtDYYyA",
        "outputId": "35ed27c5-2540-4345-a87c-fdc3ec93707e"
      },
      "execution_count": null,
      "outputs": [
        {
          "output_type": "stream",
          "name": "stdout",
          "text": [
            "This a string code\n",
            "This a second string code\n",
            "\n"
          ]
        }
      ]
    },
    {
      "cell_type": "markdown",
      "source": [
        "#3 How would you handle a case where the file doesn't exist while trying to open it for reading ?"
      ],
      "metadata": {
        "id": "4Jz_VEViYxGp"
      }
    },
    {
      "cell_type": "code",
      "source": [
        "try:\n",
        "  f=open(\"file.txt\",\"r\")\n",
        "  print(f.read)\n",
        "except:\n",
        "  print(\"file doesnot exist\")\n"
      ],
      "metadata": {
        "colab": {
          "base_uri": "https://localhost:8080/"
        },
        "id": "YG0Ykxc-Y0y4",
        "outputId": "71685bbd-ffa5-4b79-e249-6b66ff6a319e"
      },
      "execution_count": null,
      "outputs": [
        {
          "output_type": "stream",
          "name": "stdout",
          "text": [
            "file doesnot exist\n"
          ]
        }
      ]
    }
  ]
}